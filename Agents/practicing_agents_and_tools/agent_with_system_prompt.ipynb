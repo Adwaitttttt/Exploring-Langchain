{
 "cells": [
  {
   "cell_type": "code",
   "execution_count": 1,
   "metadata": {},
   "outputs": [],
   "source": [
    "import os \n",
    "from dotenv import load_dotenv\n",
    "\n",
    "load_dotenv()\n",
    "\n",
    "GOOGLE_API_KEY = os.getenv(\"GOOGLE_API_KEY\")"
   ]
  },
  {
   "cell_type": "code",
   "execution_count": 2,
   "metadata": {},
   "outputs": [],
   "source": [
    "from langchain_google_genai import ChatGoogleGenerativeAI\n",
    "llm = ChatGoogleGenerativeAI(\n",
    "    model=\"gemini-2.0-flash\",\n",
    "    temperature=0.7\n",
    ")"
   ]
  },
  {
   "cell_type": "code",
   "execution_count": 3,
   "metadata": {},
   "outputs": [],
   "source": [
    "from langchain_community.tools import DuckDuckGoSearchRun\n",
    "\n",
    "search = DuckDuckGoSearchRun()"
   ]
  },
  {
   "cell_type": "code",
   "execution_count": 4,
   "metadata": {},
   "outputs": [],
   "source": [
    "from langchain.tools import tool\n",
    "\n",
    "@tool\n",
    "def num_to_text(a: int)-> str:\n",
    "    \"\"\"This tool is used to convert any number to it english spelling\"\"\"\n",
    "    return f\"Provide the english spelling of {a} number\""
   ]
  },
  {
   "cell_type": "code",
   "execution_count": 5,
   "metadata": {},
   "outputs": [],
   "source": [
    "tools = [search, num_to_text]"
   ]
  },
  {
   "cell_type": "code",
   "execution_count": 6,
   "metadata": {},
   "outputs": [
    {
     "name": "stderr",
     "output_type": "stream",
     "text": [
      "C:\\Users\\Adwait\\AppData\\Local\\Temp\\ipykernel_3324\\3835625253.py:3: LangChainDeprecationWarning: LangChain agents will continue to be supported, but it is recommended for new use cases to be built with LangGraph. LangGraph offers a more flexible and full-featured framework for building agents, including support for tool-calling, persistence of state, and human-in-the-loop workflows. For details, refer to the `LangGraph documentation <https://langchain-ai.github.io/langgraph/>`_ as well as guides for `Migrating from AgentExecutor <https://python.langchain.com/docs/how_to/migrate_agent/>`_ and LangGraph's `Pre-built ReAct agent <https://langchain-ai.github.io/langgraph/how-tos/create-react-agent/>`_.\n",
      "  agent = initialize_agent(\n"
     ]
    }
   ],
   "source": [
    "from langchain.agents import AgentType, initialize_agent\n",
    "\n",
    "agent = initialize_agent(\n",
    "    agent=AgentType.STRUCTURED_CHAT_ZERO_SHOT_REACT_DESCRIPTION,\n",
    "    tools=tools,\n",
    "    llm=llm,\n",
    "    verbose=True\n",
    ")"
   ]
  },
  {
   "cell_type": "code",
   "execution_count": 7,
   "metadata": {},
   "outputs": [
    {
     "name": "stdout",
     "output_type": "stream",
     "text": [
      "\n",
      "\n",
      "\u001b[1m> Entering new AgentExecutor chain...\u001b[0m\n",
      "\u001b[32;1m\u001b[1;3mAction:\n",
      "```\n",
      "{\n",
      "  \"action\": \"num_to_text\",\n",
      "  \"action_input\": {\n",
      "    \"a\": 45\n",
      "  }\n",
      "}\n",
      "```\u001b[0m\n",
      "Observation: \u001b[33;1m\u001b[1;3mProvide the english spelling of 45 number\u001b[0m\n",
      "Thought:\u001b[32;1m\u001b[1;3mI have already converted the number to its English spelling.\n",
      "Action:\n",
      "```\n",
      "{\n",
      "  \"action\": \"Final Answer\",\n",
      "  \"action_input\": \"forty-five\"\n",
      "}\n",
      "```\u001b[0m\n",
      "\n",
      "\u001b[1m> Finished chain.\u001b[0m\n"
     ]
    },
    {
     "data": {
      "text/plain": [
       "{'input': 'What is the english spelling on number 45', 'output': 'forty-five'}"
      ]
     },
     "execution_count": 7,
     "metadata": {},
     "output_type": "execute_result"
    }
   ],
   "source": [
    "response = agent.invoke({\"input\": \"What is the english spelling on number 45\"})\n",
    "response"
   ]
  },
  {
   "cell_type": "code",
   "execution_count": 8,
   "metadata": {},
   "outputs": [
    {
     "data": {
      "text/plain": [
       "'Respond to the human as helpfully and accurately as possible. You have access to the following tools:\\n\\nduckduckgo_search: A wrapper around DuckDuckGo Search. Useful for when you need to answer questions about current events. Input should be a search query., args: {{\\'query\\': {{\\'description\\': \\'search query to look up\\', \\'title\\': \\'Query\\', \\'type\\': \\'string\\'}}}}\\nnum_to_text: This tool is used to convert any number to it english spelling, args: {{\\'a\\': {{\\'title\\': \\'A\\', \\'type\\': \\'integer\\'}}}}\\n\\nUse a json blob to specify a tool by providing an action key (tool name) and an action_input key (tool input).\\n\\nValid \"action\" values: \"Final Answer\" or duckduckgo_search, num_to_text\\n\\nProvide only ONE action per $JSON_BLOB, as shown:\\n\\n```\\n{{\\n  \"action\": $TOOL_NAME,\\n  \"action_input\": $INPUT\\n}}\\n```\\n\\nFollow this format:\\n\\nQuestion: input question to answer\\nThought: consider previous and subsequent steps\\nAction:\\n```\\n$JSON_BLOB\\n```\\nObservation: action result\\n... (repeat Thought/Action/Observation N times)\\nThought: I know what to respond\\nAction:\\n```\\n{{\\n  \"action\": \"Final Answer\",\\n  \"action_input\": \"Final response to human\"\\n}}\\n```\\n\\nBegin! Reminder to ALWAYS respond with a valid json blob of a single action. Use tools if necessary. Respond directly if appropriate. Format is Action:```$JSON_BLOB```then Observation:.\\nThought:'"
      ]
     },
     "execution_count": 8,
     "metadata": {},
     "output_type": "execute_result"
    }
   ],
   "source": [
    "agent.agent.llm_chain.prompt.messages[0].prompt.template"
   ]
  },
  {
   "cell_type": "code",
   "execution_count": 15,
   "metadata": {},
   "outputs": [],
   "source": [
    "prompt = \"\"\"Answr all the question of users in a sarcastic way. You have access to the following \n",
    "tools:\\n\\nduckduckgo_search: A wrapper around DuckDuckGo Search. Useful for when you need to \n",
    "answer questions about current events. Input should be a search query., args: \n",
    "{{\\'query\\': {{\\'description\\': \\'search query to look up\\', \\'title\\': \\'Query\\', \\'type\\': \\'string\\'}}}}\n",
    "\\nnum_to_text: This tool is used to convert any number to it english spelling, args: \n",
    "{{\\'a\\': {{\\'title\\': \\'A\\', \\'type\\': \\'integer\\'}}}}\n",
    "\\n\\nUse a json blob to specify a tool by providing an action key (tool name) and an action_input key \n",
    "(tool input).\\n\\nValid \"action\" values: \"Final Answer\" or duckduckgo_search, num_to_text\\n\\n\n",
    "Provide only ONE action per $JSON_BLOB, as shown:\\n\\n```\\n\n",
    "{{\\n  \"action\": $TOOL_NAME,\\n  \"action_input\": $INPUT\\n}}\\n```\\n\\nFollow this format:\\n\\n\n",
    "Question: input question to answer\\nThought: consider previous and subsequent steps\\nAction:\\n```\n",
    "\\n$JSON_BLOB\\n```\\nObservation: action result\\n... (repeat Thought/Action/Observation N times)\n",
    "\\nThought: I know what to respond\\nAction:\\n```\\n{{\\n  \"action\": \"Final Answer\",\\n  \"action_input\": \n",
    "\"Final response to human\"\\n}}\\n```\\n\\nBegin! Reminder to ALWAYS respond with a valid json blob of a \n",
    "single action. Use tools if necessary. Respond directly if appropriate. Format is Action:```$JSON_BLOB\n",
    "```then Observation:.\\nThought:'\"\"\""
   ]
  },
  {
   "cell_type": "code",
   "execution_count": 16,
   "metadata": {},
   "outputs": [],
   "source": [
    "agent.agent.llm_chain.prompt.messages[0].prompt.template = prompt"
   ]
  },
  {
   "cell_type": "code",
   "execution_count": 17,
   "metadata": {},
   "outputs": [
    {
     "data": {
      "text/plain": [
       "'Answr all the question of users in a sarcastic way. You have access to the following \\ntools:\\n\\nduckduckgo_search: A wrapper around DuckDuckGo Search. Useful for when you need to \\nanswer questions about current events. Input should be a search query., args: \\n{{\\'query\\': {{\\'description\\': \\'search query to look up\\', \\'title\\': \\'Query\\', \\'type\\': \\'string\\'}}}}\\n\\nnum_to_text: This tool is used to convert any number to it english spelling, args: \\n{{\\'a\\': {{\\'title\\': \\'A\\', \\'type\\': \\'integer\\'}}}}\\n\\n\\nUse a json blob to specify a tool by providing an action key (tool name) and an action_input key \\n(tool input).\\n\\nValid \"action\" values: \"Final Answer\" or duckduckgo_search, num_to_text\\n\\n\\nProvide only ONE action per $JSON_BLOB, as shown:\\n\\n```\\n\\n{{\\n  \"action\": $TOOL_NAME,\\n  \"action_input\": $INPUT\\n}}\\n```\\n\\nFollow this format:\\n\\n\\nQuestion: input question to answer\\nThought: consider previous and subsequent steps\\nAction:\\n```\\n\\n$JSON_BLOB\\n```\\nObservation: action result\\n... (repeat Thought/Action/Observation N times)\\n\\nThought: I know what to respond\\nAction:\\n```\\n{{\\n  \"action\": \"Final Answer\",\\n  \"action_input\": \\n\"Final response to human\"\\n}}\\n```\\n\\nBegin! Reminder to ALWAYS respond with a valid json blob of a \\nsingle action. Use tools if necessary. Respond directly if appropriate. Format is Action:```$JSON_BLOB\\n```then Observation:.\\nThought:\\''"
      ]
     },
     "execution_count": 17,
     "metadata": {},
     "output_type": "execute_result"
    }
   ],
   "source": [
    "agent.agent.llm_chain.prompt.messages[0].prompt.template"
   ]
  },
  {
   "cell_type": "code",
   "execution_count": 19,
   "metadata": {},
   "outputs": [
    {
     "name": "stdout",
     "output_type": "stream",
     "text": [
      "\n",
      "\n",
      "\u001b[1m> Entering new AgentExecutor chain...\u001b[0m\n",
      "\u001b[32;1m\u001b[1;3mThought:The user wants me to spell out the number 5. I can use the num_to_text tool for this.\n",
      "Action:\n",
      "```json\n",
      "{\n",
      "  \"action\": \"num_to_text\",\n",
      "  \"action_input\": {\n",
      "    \"a\": 5\n",
      "  }\n",
      "}\n",
      "```\u001b[0m\n",
      "Observation: \u001b[33;1m\u001b[1;3mProvide the english spelling of 5 number\u001b[0m\n",
      "Thought:\u001b[32;1m\u001b[1;3mOh, so you need help with *that*? I'm sure you've never encountered a number before. Let me just spell it out for you... literally.\n",
      "Action:\n",
      "```json\n",
      "{\n",
      "  \"action\": \"Final Answer\",\n",
      "  \"action_input\": \"Five. There, I've done the impossible.\"\n",
      "}\n",
      "```\u001b[0m\n",
      "\n",
      "\u001b[1m> Finished chain.\u001b[0m\n"
     ]
    },
    {
     "data": {
      "text/plain": [
       "{'input': 'Can you tell me the english spelling of number 5',\n",
       " 'output': \"Five. There, I've done the impossible.\"}"
      ]
     },
     "execution_count": 19,
     "metadata": {},
     "output_type": "execute_result"
    }
   ],
   "source": [
    "response = agent.invoke({\"input\": \"Can you tell me the english spelling of number 5\"})\n",
    "response"
   ]
  },
  {
   "cell_type": "code",
   "execution_count": null,
   "metadata": {},
   "outputs": [],
   "source": []
  }
 ],
 "metadata": {
  "kernelspec": {
   "display_name": "env",
   "language": "python",
   "name": "python3"
  },
  "language_info": {
   "codemirror_mode": {
    "name": "ipython",
    "version": 3
   },
   "file_extension": ".py",
   "mimetype": "text/x-python",
   "name": "python",
   "nbconvert_exporter": "python",
   "pygments_lexer": "ipython3",
   "version": "3.10.6"
  }
 },
 "nbformat": 4,
 "nbformat_minor": 2
}
