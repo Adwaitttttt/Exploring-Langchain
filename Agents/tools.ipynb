{
 "cells": [
  {
   "cell_type": "markdown",
   "id": "c75d39e2",
   "metadata": {},
   "source": [
    "**A tool is just a python function (or API) that is packages in a way the LLM can understand and call when needed**"
   ]
  },
  {
   "cell_type": "markdown",
   "id": "d8302828",
   "metadata": {},
   "source": [
    "**How tools fits into Agent ecosystem**"
   ]
  },
  {
   "cell_type": "markdown",
   "id": "29cb172e",
   "metadata": {},
   "source": [
    "An AI Agent in an LLM powered system that can autonomously think, decide, and take actions using external tools or APIs to achive the goal"
   ]
  },
  {
   "cell_type": "markdown",
   "id": "af6a73ad",
   "metadata": {},
   "source": [
    "There are two types of tools\n",
    "\n",
    "1) pre-built tools\n",
    "2) custom tools"
   ]
  },
  {
   "cell_type": "markdown",
   "id": "8e2b8a59",
   "metadata": {},
   "source": [
    "Built In Tools"
   ]
  },
  {
   "cell_type": "markdown",
   "id": "bdb761aa",
   "metadata": {},
   "source": [
    "Built in tool are the tools which langchain already provides its pre-built production ready and requires minimal setup or no setup"
   ]
  },
  {
   "cell_type": "code",
   "execution_count": 1,
   "id": "2daa36cc",
   "metadata": {},
   "outputs": [
    {
     "data": {
      "text/plain": [
       "True"
      ]
     },
     "execution_count": 1,
     "metadata": {},
     "output_type": "execute_result"
    }
   ],
   "source": [
    "import os \n",
    "from dotenv import load_dotenv\n",
    "\n",
    "load_dotenv()"
   ]
  },
  {
   "cell_type": "code",
   "execution_count": 3,
   "id": "69991938",
   "metadata": {},
   "outputs": [
    {
     "name": "stdout",
     "output_type": "stream",
     "text": [
      "Indian Premier League 2025 (IPL) Schedule, Points Table, Final Teams List, News, Venue Details, Series & Player Stats, Expert Analysis, Videos and much more details made available in few clicks ... The Indian Premier League (IPL) 2025 season, currently scheduled to go on till May 25, will continue normally, a Board of Control for Cricket in India (BCCI) source told ANI. A top source in the Board of Control for Cricket in India (BCCI) told India Today that there is no change to the IPL schedule at present, even as the board closely monitors the situation. A total of 56 matches out of 74 have been played in the IPL 2025 season, with the race to the play-offs heating up. Find out the latest news and updates on IPL 2025, the Indian Premier League cricket tournament. Check out the teams, match schedule, results, players list and points table for IPL 2025. Catch all the latest & breaking news on IPL 2025 Cricket series. Get all updates on IPL 2025 Cricket team players and coaches at NDTV Sports.\n"
     ]
    }
   ],
   "source": [
    "from langchain_community.tools import DuckDuckGoSearchRun\n",
    "\n",
    "search = DuckDuckGoSearchRun()\n",
    "result = search.run(\"IPL 2025 news\")\n",
    "print(result)"
   ]
  },
  {
   "cell_type": "code",
   "execution_count": 5,
   "id": "d626f3d5",
   "metadata": {},
   "outputs": [
    {
     "name": "stdout",
     "output_type": "stream",
     "text": [
      "Page: Cristiano Ronaldo\n",
      "Summary: Cristiano Ronaldo dos Santos Aveiro (Portuguese pronunciation: [kɾiʃˈtjɐnu ʁɔˈnaldu] ; born 5 February 1985) is a Portuguese professional footballer who plays as a forward for and captains both Saudi Pro League club Al-Nassr and the Portugal national team. Nicknamed CR7, he is widely regarded as one of the greatest players of all time, and has won numerous individual accolades throughout his professional footballing career, including five Ballon d'Or awards, a record three UEFA Men's Player of the Year Awards, four European Golden Shoes, and was named five times the world's best player by FIFA. He has won 33 trophies in his career, including seven league titles, five UEFA Champions Leagues and the UEFA European Championship. Ronaldo holds the records for most goals (140) and assists (42) in the Champions League, goals (14) and assists (8) in the European Championship, and most international appearances (219) and international goals (136). He is one of the few players to have made over 1,200 professional career appearances, the most by an outfield player, and has scored over 900 official senior career goals for club and country, making him the top goalscorer of all time.\n",
      "Ronaldo began his senior career with Sporting CP, before signing with Manchester United in 2003, winning the FA Cup in his first season. He went on to become a star player at United, as they won three consecutive Premier League titles, the Champions League and the FIFA Club World Cup; his 2007–08 season earned him his first Ballon d'Or, aged 23. Ronaldo was the subject of the then-most expensive association football transfer when he signed for Real Madrid in 2009 in a transfer worth €94 million (£80 million). He was integral to Madrid becoming a dominant force again, as they won four Champions Leagues from 2014 to 2018, including La Décima. He won back-to-back Ballon d'Or awards in 2013 and 2014, and again in 2016 and 2017, and was runner-up three times behind Lionel Messi, his perceived career rival. He also became the club's all-time top goalscorer and finished as the Champions League's top scorer for six consecutive seasons between 2012 and 2018. With Madrid, Ronaldo's additional titles include two La Liga titles, including a record-breaking title win in 2011-12, and two Copas del Rey. In 2018, following issues with the Madrid hierarchy, Ronaldo made a surprise transfer to Juventus in a transfer worth an initial €100 million (£88 million). He won several trophies in Italy, including two Serie A titles and a Coppa Italia, and broke several records for Juventus. He returned to United in 2021; despite a collectively disappointing season, Ronaldo's individual performances earned him being included in the PFA Team of the Year at 37 years old. His contract was terminated in 2022 due to a fall out with the newly appointed manager, and in 2023 he signed for Al-Nassr, a move that has since been widely credited for revolutionising football in Saudi Arabia.\n",
      "Ronaldo made his international debut for Portugal in 2003 at the age of 18 and has earned more than 200 caps, making him history's most-capped male player. Ronaldo has played in eleven major tournaments and scored in ten; he scored his first international goal at Euro 2004, where he helped Portugal reach the final and subsequently made the team of the tournament. In the 2006 FIFA World Cup, his first World Cup, he was a focal part to Portugal ultimately finishing in fourth place. He assumed captaincy of the national team in July 2008 ahead of Euro 2008; four years later, at Euro 2012, he was named to the team of the tournament. In 2015, Ronaldo was named the best Portuguese player of all time by the Portuguese Football Federation. The following year, he led Portugal to their first major tournament title at Euro 2016, being named in the team of the tournament for the third time and receiving the Silver Boot as the second-highest goalscorer of the tournament. This achievement saw him r\n"
     ]
    }
   ],
   "source": [
    "from langchain_community.tools import WikipediaQueryRun\n",
    "from langchain_community.utilities import WikipediaAPIWrapper\n",
    "\n",
    "# First create the API wrapper\n",
    "wikipedia = WikipediaAPIWrapper()\n",
    "\n",
    "# Then create the tool with the wrapper\n",
    "wiki = WikipediaQueryRun(api_wrapper=wikipedia)\n",
    "\n",
    "# Now you can run queries\n",
    "result = wiki.run(\"Who is Cristiano Ronaldo?\")\n",
    "print(result)"
   ]
  },
  {
   "cell_type": "markdown",
   "id": "4aa560d8",
   "metadata": {},
   "source": [
    "Custom Tools"
   ]
  },
  {
   "cell_type": "markdown",
   "id": "3e8ba53b",
   "metadata": {},
   "source": [
    "A Custom tool is a tool which you define \n",
    "Use case:\n",
    "    You want to call your own API\n",
    "    You want to encapsulate the buisness logic\n",
    "    You want the LLM to interact with your database, app or product"
   ]
  },
  {
   "cell_type": "code",
   "execution_count": 26,
   "id": "6754899c",
   "metadata": {},
   "outputs": [],
   "source": [
    "from langchain_google_genai import ChatGoogleGenerativeAI\n",
    "\n",
    "llm = ChatGoogleGenerativeAI(\n",
    "    model=\"gemini-1.5-flash\",\n",
    "    temperature=0.7,\n",
    ")"
   ]
  },
  {
   "cell_type": "code",
   "execution_count": 27,
   "id": "efc2e865",
   "metadata": {},
   "outputs": [
    {
     "name": "stdout",
     "output_type": "stream",
     "text": [
      "15\n"
     ]
    }
   ],
   "source": [
    "from langchain_core.tools import tool\n",
    "\n",
    "@tool\n",
    "def multiply(a: int, b:int) -> int:\n",
    "    \"\"\"Multiply two numbers\"\"\"\n",
    "    return a*b\n",
    "\n",
    "result = multiply.invoke({\"a\":3, \"b\":5})\n",
    "print(result)"
   ]
  },
  {
   "cell_type": "code",
   "execution_count": 28,
   "id": "78f4fedf",
   "metadata": {},
   "outputs": [
    {
     "name": "stdout",
     "output_type": "stream",
     "text": [
      "multiply\n",
      "Multiply two numbers\n",
      "{'a': {'title': 'A', 'type': 'integer'}, 'b': {'title': 'B', 'type': 'integer'}}\n"
     ]
    }
   ],
   "source": [
    "print(multiply.name)\n",
    "print(multiply.description)\n",
    "print(multiply.args)"
   ]
  },
  {
   "cell_type": "code",
   "execution_count": 29,
   "id": "fa57b0b5",
   "metadata": {},
   "outputs": [],
   "source": [
    "# Define your tools\n",
    "from langchain_core.tools import Tool\n",
    "def analysis_task(query: str) -> str:\n",
    "    return f\"Your task is to answer the user query in sarcastic way and the input of user is {input}\"\n",
    "\n",
    "analysis_tool = Tool(\n",
    "    name=\"Analysis_tool\",\n",
    "    func=analysis_task,\n",
    "    description=\"Use this tool only to answer user's query in sarcastic way\"\n",
    ")"
   ]
  },
  {
   "cell_type": "code",
   "execution_count": 30,
   "id": "161c5475",
   "metadata": {},
   "outputs": [],
   "source": [
    "tools = [analysis_tool]"
   ]
  },
  {
   "cell_type": "code",
   "execution_count": 33,
   "id": "607c328c",
   "metadata": {},
   "outputs": [
    {
     "name": "stderr",
     "output_type": "stream",
     "text": [
      "C:\\Users\\Adwait\\AppData\\Local\\Temp\\ipykernel_23772\\392465784.py:10: LangChainDeprecationWarning: Please see the migration guide at: https://python.langchain.com/docs/versions/migrating_memory/\n",
      "  memory = ConversationBufferMemory(memory_key=\"chat_history\", return_messages=True)\n"
     ]
    }
   ],
   "source": [
    "# Use the simpler initialize_agent approach with a system message override\n",
    "\n",
    "from langchain.agents import Tool, AgentExecutor\n",
    "from langchain.agents.agent_types import AgentType\n",
    "from langchain.agents import initialize_agent\n",
    "from langchain.memory import ConversationBufferMemory\n",
    "\n",
    "\n",
    "# Create a memory object (optional, but useful)\n",
    "memory = ConversationBufferMemory(memory_key=\"chat_history\", return_messages=True)\n",
    "\n",
    "agent = initialize_agent(\n",
    "    tools=tools,\n",
    "    llm=llm,\n",
    "    agent=AgentType.CHAT_CONVERSATIONAL_REACT_DESCRIPTION,\n",
    "    verbose=True,\n",
    "    memory=memory,\n",
    "    handle_parsing_errors=True,\n",
    ")"
   ]
  },
  {
   "cell_type": "code",
   "execution_count": 34,
   "id": "6579689c",
   "metadata": {},
   "outputs": [
    {
     "name": "stdout",
     "output_type": "stream",
     "text": [
      "\n",
      "\n",
      "\u001b[1m> Entering new AgentExecutor chain...\u001b[0m\n"
     ]
    },
    {
     "name": "stderr",
     "output_type": "stream",
     "text": [
      "Retrying langchain_google_genai.chat_models._chat_with_retry.<locals>._chat_with_retry in 2.0 seconds as it raised ResourceExhausted: 429 Resource has been exhausted (e.g. check quota)..\n"
     ]
    },
    {
     "name": "stdout",
     "output_type": "stream",
     "text": [
      "\u001b[32;1m\u001b[1;3m```json\n",
      "{\n",
      "  \"action\": \"Final Answer\",\n",
      "  \"action_input\": \"Oh, you want to know the capital of India?  Is that *really* the most challenging question you could come up with?  I suppose it's Delhi.  Are you impressed?\"\n",
      "}\n",
      "```\u001b[0m\n",
      "\n",
      "\u001b[1m> Finished chain.\u001b[0m\n",
      "{'input': 'What is the capital of india?', 'chat_history': [HumanMessage(content='What is the capital of india?', additional_kwargs={}, response_metadata={}), AIMessage(content=\"Oh, you want to know the capital of India?  Is that *really* the most challenging question you could come up with?  I suppose it's Delhi.  Are you impressed?\", additional_kwargs={}, response_metadata={})], 'output': \"Oh, you want to know the capital of India?  Is that *really* the most challenging question you could come up with?  I suppose it's Delhi.  Are you impressed?\"}\n"
     ]
    }
   ],
   "source": [
    "# Example query\n",
    "query = \"What is the capital of india?\"\n",
    "response = agent.invoke({\"input\": query})\n",
    "print(response)\n"
   ]
  },
  {
   "cell_type": "code",
   "execution_count": null,
   "id": "7ac39e05",
   "metadata": {},
   "outputs": [],
   "source": []
  }
 ],
 "metadata": {
  "kernelspec": {
   "display_name": "env",
   "language": "python",
   "name": "python3"
  },
  "language_info": {
   "codemirror_mode": {
    "name": "ipython",
    "version": 3
   },
   "file_extension": ".py",
   "mimetype": "text/x-python",
   "name": "python",
   "nbconvert_exporter": "python",
   "pygments_lexer": "ipython3",
   "version": "3.10.6"
  }
 },
 "nbformat": 4,
 "nbformat_minor": 5
}
