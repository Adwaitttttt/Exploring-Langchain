{
 "cells": [
  {
   "cell_type": "markdown",
   "id": "c75d39e2",
   "metadata": {},
   "source": [
    "**A tool is just a python function (or API) that is packages in a way the LLM can understand and call when needed**"
   ]
  },
  {
   "cell_type": "markdown",
   "id": "d8302828",
   "metadata": {},
   "source": [
    "**How tools fits into Agent ecosystem**"
   ]
  },
  {
   "cell_type": "markdown",
   "id": "29cb172e",
   "metadata": {},
   "source": [
    "An AI Agent in an LLM powered system that can autonomously think, decide, and take actions using external tools or APIs to achive the goal"
   ]
  },
  {
   "cell_type": "markdown",
   "id": "af6a73ad",
   "metadata": {},
   "source": [
    "There are two types of tools\n",
    "\n",
    "1) pre-built tools\n",
    "2) custom tools"
   ]
  },
  {
   "cell_type": "markdown",
   "id": "8e2b8a59",
   "metadata": {},
   "source": [
    "Built In Tools"
   ]
  },
  {
   "cell_type": "markdown",
   "id": "bdb761aa",
   "metadata": {},
   "source": [
    "Built in tool are the tools which langchain already provides its pre-built production ready and requires minimal setup or no setup"
   ]
  },
  {
   "cell_type": "code",
   "execution_count": 1,
   "id": "2daa36cc",
   "metadata": {},
   "outputs": [
    {
     "data": {
      "text/plain": [
       "True"
      ]
     },
     "execution_count": 1,
     "metadata": {},
     "output_type": "execute_result"
    }
   ],
   "source": [
    "import os \n",
    "from dotenv import load_dotenv\n",
    "\n",
    "load_dotenv()"
   ]
  },
  {
   "cell_type": "code",
   "execution_count": 2,
   "id": "69991938",
   "metadata": {},
   "outputs": [
    {
     "name": "stdout",
     "output_type": "stream",
     "text": [
      "IPL 2025 LIVE Updates: The Indian Premier League (IPL) was suspended indefinitely on Friday because of the escalating military confrontation between India and Pakistan. A cloud of uncertainty had loomed over the future of the ongoing edition since the cancellation of Thursday's match between Punjab Kings and Delhi Capitals in Dharamsala midway following air raid alerts in neighbouring cities ... The IPL 2025 match between PBKS and DC on Thursday was called off midway in Dharamshala. The decision came at the same time as heavy shelling was reported in the border areas amid ongoing military ... IPL 2025 LIVE Updates: The Indian Premier League has been suspended with immediate effect for one week as India is engaged in a conflict with Pakistan. ... Director Sanjay Sharma told news agency ANI. \"Even before that, there were strong feelings that something like this could happen. For that, the HPCA and the Punjab Kings franchise ... Indian Premier League 2025 has been called off amid rising security concerns in the country. On Thursday, May 8, the IPL match between Punjab Kings and Delhi Capitals had to be called off midway ... The remainder of IPL 2025 has been suspended for one week by the BCCI. The Board of Control for Cricket in India (BCCI) has provided an official update on the future of Indian Premier League (IPL) 2025 on Friday, May 9. Notably, the 59th match of IPL 2025 between Punjab Kings (PBKS) and Delhi Capitals (DC) was stopped midway on Thursday, May 8.. The encounter was underway at the Himachal ...\n"
     ]
    }
   ],
   "source": [
    "from langchain_community.tools import DuckDuckGoSearchRun\n",
    "\n",
    "search = DuckDuckGoSearchRun()\n",
    "result = search.run(\"IPL 2025 news\")\n",
    "print(result)"
   ]
  },
  {
   "cell_type": "code",
   "execution_count": 3,
   "id": "d626f3d5",
   "metadata": {},
   "outputs": [
    {
     "name": "stdout",
     "output_type": "stream",
     "text": [
      "Page: Messi–Ronaldo rivalry\n",
      "Summary: The Messi–Ronaldo rivalry, or Ronaldo–Messi rivalry, is a sporting rivalry in football propelled by the media and fans that involves Argentine footballer Lionel Messi and Portuguese footballer Cristiano Ronaldo, mainly for being contemporaries and due to their similar records and sporting successes. They spent nine seasons in the prime of their careers facing off regularly while playing for rival clubs Barcelona and Real Madrid.\n",
      "Together, they have achieved various historical milestones, coming to be considered as two of the best footballers of all time. They are two of the most decorated players ever, having won 78 official trophies in total (Messi 45, Ronaldo 33) during their senior careers thus far, and have regularly broken the 50-goal barrier in a single season. According to IFFHS, they are the only two players to score over 800 goals each in their careers for club and country. Ronaldo holds the record for most official goals in a career.\n",
      "Journalists and pundits regularly argue the individual merits of both players in an attempt to establish who they believe is the best player in modern football or ever. Regardless of preference, football critics generally agree that they are both the best players of their generation, outperforming their peers by a significant margin. Ronaldo has received praise for his physical attributes, goalscoring skills, and performance under pressure, while Messi is lauded for his combination of dribbling, playmaking, passing and goalscoring. Some commentators choose to analyse the differing physiques and playing styles of the two, while part of the debate revolves around the contrasting personalities of the two players; Ronaldo is sometimes described as someone of temperamental character while Messi is considered to have a more reserved personality. Several commentators and players opined that Messi settled the debate after leading Argentina to victory at the 2022 FIFA World Cup.\n",
      "The rivalry has been compared to past global sports rivalries such as the Ali–Frazier rivalry in boxing, the Prost–Senna rivalry in motorsport, and the tennis rivalries between Djokovic–Nadal and Federer–Nadal.\n",
      "\n",
      "Page: Career of Cristiano Ronaldo\n",
      "Summary: Cristiano Ronaldo is a Portuguese footballer who plays as a forward for and captains both Saudi Pro League club Al-Nassr and the Portugal national team. His individual achievements include five Ballon d'Or awards, the most for a European player. His exceptional goal-scoring ability, explosive speed, powerful knuckleball shots, and dribbling skills cemented his legacy as one of the greatest and most iconic footballers in history. In recognition of his record-breaking goalscoring success, Ronaldo received special awards for Outstanding Career Achievement by FIFA in 2021 and Champions League All-Time Top Scorer by UEFA in 2024.\n",
      "Ronaldo joined Sporting CP's youth academy and made the first team in August 2002. A sought after player, Manchester United signed Ronaldo for £12 million in August 2003, an England record for a teenager. After an individually and collectively successful six-year period where Ronaldo evolved into a world class attacker, he transferred to his \"dream club\" Real Madrid in 2009 for a then world record £80 million. He spent nine seasons in Madrid, enjoying tremendous success and setting numerous records, including becoming the club's record goalscorer with 450 goals and being integral to the club winning four Champions League titles in a five-year span. Tensions with the hierarchy of Real Madrid resulted in Ronaldo joining Juventus in 2018 for €100 million, where he went on to win all the major honours in Italian football. He returned to Manchester United in 2021, before signing with Saudi Arabian club Al-Nassr in January 2023, reportedly receiving the highest football salary in history. Ronaldo's move increased the popularity of the Saudi Pro League, attracting other high-profile players. \n",
      "Ronaldo made his internationa\n"
     ]
    }
   ],
   "source": [
    "from langchain_community.tools import WikipediaQueryRun\n",
    "from langchain_community.utilities import WikipediaAPIWrapper\n",
    "\n",
    "# First create the API wrapper\n",
    "wikipedia = WikipediaAPIWrapper()\n",
    "\n",
    "# Then create the tool with the wrapper\n",
    "wiki = WikipediaQueryRun(api_wrapper=wikipedia)\n",
    "\n",
    "# Now you can run queries\n",
    "result = wiki.run(\"Who is Cristiano Ronaldo?\")\n",
    "print(result)"
   ]
  },
  {
   "cell_type": "markdown",
   "id": "4aa560d8",
   "metadata": {},
   "source": [
    "Custom Tools"
   ]
  },
  {
   "cell_type": "markdown",
   "id": "3e8ba53b",
   "metadata": {},
   "source": [
    "A Custom tool is a tool which you define \n",
    "Use case:\n",
    "    You want to call your own API\n",
    "    You want to encapsulate the buisness logic\n",
    "    You want the LLM to interact with your database, app or product"
   ]
  },
  {
   "cell_type": "code",
   "execution_count": 4,
   "id": "6754899c",
   "metadata": {},
   "outputs": [],
   "source": [
    "from langchain_google_genai import ChatGoogleGenerativeAI\n",
    "\n",
    "llm = ChatGoogleGenerativeAI(\n",
    "    model=\"gemini-1.5-flash\",\n",
    "    temperature=0.7,\n",
    ")"
   ]
  },
  {
   "cell_type": "markdown",
   "id": "5ece8681",
   "metadata": {},
   "source": [
    "Method 1 - Using @tool decorator"
   ]
  },
  {
   "cell_type": "code",
   "execution_count": 5,
   "id": "efc2e865",
   "metadata": {},
   "outputs": [
    {
     "name": "stdout",
     "output_type": "stream",
     "text": [
      "15\n"
     ]
    }
   ],
   "source": [
    "#Using @tool decorator \n",
    "from langchain_core.tools import tool\n",
    "\n",
    "@tool\n",
    "def multiply(a: int, b:int) -> int:\n",
    "    \"\"\"Multiply two numbers\"\"\"\n",
    "    return a*b\n",
    "\n",
    "result = multiply.invoke({\"a\":3, \"b\":5})\n",
    "print(result)"
   ]
  },
  {
   "cell_type": "code",
   "execution_count": 6,
   "id": "78f4fedf",
   "metadata": {},
   "outputs": [
    {
     "name": "stdout",
     "output_type": "stream",
     "text": [
      "multiply\n",
      "Multiply two numbers\n",
      "{'a': {'title': 'A', 'type': 'integer'}, 'b': {'title': 'B', 'type': 'integer'}}\n"
     ]
    }
   ],
   "source": [
    "print(multiply.name)\n",
    "print(multiply.description)\n",
    "print(multiply.args)"
   ]
  },
  {
   "cell_type": "markdown",
   "id": "e4491fd2",
   "metadata": {},
   "source": [
    "Method 2 - Using StructuredTool"
   ]
  },
  {
   "cell_type": "code",
   "execution_count": 7,
   "id": "52349e27",
   "metadata": {},
   "outputs": [],
   "source": [
    "from langchain.tools import StructuredTool\n",
    "from pydantic import BaseModel, Field"
   ]
  },
  {
   "cell_type": "code",
   "execution_count": 8,
   "id": "0cd04af3",
   "metadata": {},
   "outputs": [],
   "source": [
    "class MultiplyInput(BaseModel):\n",
    "    a: int = Field(required=True, description=\"The first number to add\")\n",
    "    b: int = Field(required=True, description=\"The second number to add\")"
   ]
  },
  {
   "cell_type": "code",
   "execution_count": 9,
   "id": "0c8cb666",
   "metadata": {},
   "outputs": [],
   "source": [
    "def multiply_func(a: int, b: int) -> int:\n",
    "    return a * b"
   ]
  },
  {
   "cell_type": "code",
   "execution_count": 10,
   "id": "32ad19ff",
   "metadata": {},
   "outputs": [],
   "source": [
    "multiply_tool = StructuredTool.from_function(\n",
    "    func=multiply_func,\n",
    "    name=\"multiply\",\n",
    "    description=\"Multiply two numbers\",\n",
    "    args_schema=MultiplyInput\n",
    ")"
   ]
  },
  {
   "cell_type": "code",
   "execution_count": 11,
   "id": "b70546ff",
   "metadata": {},
   "outputs": [
    {
     "name": "stdout",
     "output_type": "stream",
     "text": [
      "9\n",
      "multiply\n",
      "Multiply two numbers\n",
      "{'a': {'description': 'The first number to add', 'required': True, 'title': 'A', 'type': 'integer'}, 'b': {'description': 'The second number to add', 'required': True, 'title': 'B', 'type': 'integer'}}\n"
     ]
    }
   ],
   "source": [
    "result = multiply_tool.invoke({'a':3, 'b':3})\n",
    "\n",
    "print(result)\n",
    "print(multiply_tool.name)\n",
    "print(multiply_tool.description)\n",
    "print(multiply_tool.args)"
   ]
  }
 ],
 "metadata": {
  "kernelspec": {
   "display_name": "env",
   "language": "python",
   "name": "python3"
  },
  "language_info": {
   "codemirror_mode": {
    "name": "ipython",
    "version": 3
   },
   "file_extension": ".py",
   "mimetype": "text/x-python",
   "name": "python",
   "nbconvert_exporter": "python",
   "pygments_lexer": "ipython3",
   "version": "3.10.6"
  }
 },
 "nbformat": 4,
 "nbformat_minor": 5
}
